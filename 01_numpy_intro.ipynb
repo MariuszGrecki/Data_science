{
  "nbformat": 4,
  "nbformat_minor": 0,
  "metadata": {
    "colab": {
      "provenance": [],
      "authorship_tag": "ABX9TyMLNc0KLPux213iJPUm8xZG",
      "include_colab_link": true
    },
    "kernelspec": {
      "name": "python3",
      "display_name": "Python 3"
    },
    "language_info": {
      "name": "python"
    }
  },
  "cells": [
    {
      "cell_type": "markdown",
      "metadata": {
        "id": "view-in-github",
        "colab_type": "text"
      },
      "source": [
        "<a href=\"https://colab.research.google.com/github/MariuszGrecki/Data_science/blob/main/01_numpy_intro.ipynb\" target=\"_parent\"><img src=\"https://colab.research.google.com/assets/colab-badge.svg\" alt=\"Open In Colab\"/></a>"
      ]
    },
    {
      "cell_type": "markdown",
      "source": [
        "# NumPy - Intro\n",
        "NumPy, czyli Numerical Python, to biblioteka programistyczna w języku Python, która dostarcza wsparcie dla efektywnych operacji numerycznych, zwłaszcza na dużych tablicach i macierzach danych. Jest jednym z podstawowych narzędzi w dziedzinie naukowych obliczeń i analizy danych w języku Python.\n",
        "\n",
        "\n",
        "\n",
        "Główne cechy i funkcje biblioteki NumPy:\n",
        "\n",
        "**Tablice wielowymiarowe:** NumPy wprowadza nowy typ danych, znany jako \"array\" (tablica), który pozwala na przechowywanie i operowanie danymi wielowymiarowymi. Tablice w NumPy są bardziej wydajne niż standardowe listy w Pythonie i pozwalają na efektywne wykonywanie operacji matematycznych i statystycznych na danych.\n",
        "\n",
        "**Efektywne operacje numeryczne:** NumPy dostarcza wiele wbudowanych funkcji i operacji, takich jak dodawanie, mnożenie, podnoszenie do potęgi, funkcje trygonometryczne itp., które działają efektywnie na dużych zbiorach danych.\n",
        "\n",
        "**Broadcasting:** NumPy umożliwia wykonywanie operacji na tablicach o różnych kształtach, co jest nazywane \"broadcasting\". Dzięki temu można wygodnie operować na danych o różnych wymiarach, a NumPy automatycznie dostosowuje kształt tablic.\n",
        "\n",
        "**Indeksowanie i wycinanie:** NumPy oferuje zaawansowane możliwości indeksowania i wycinania danych z tablic, co pozwala na dostęp do konkretnych elementów lub podtablic z dużą precyzją.\n",
        "\n",
        "**Losowanie liczb:** Biblioteka umożliwia generowanie losowych liczb o różnych rozkładach, co jest przydatne w symulacjach i analizach statystycznych.\n",
        "\n",
        "**Integracja z innymi bibliotekami:** NumPy jest często używany w połączeniu z innymi bibliotekami do naukowych obliczeń i analizy danych, takimi jak SciPy, pandas, matplotlib i scikit-learn.\n",
        "\n",
        "**Obsługa danych brakujących:** NumPy ma wbudowane funkcje do pracy z danymi brakującymi, co jest istotne w analizie danych.\n",
        "\n",
        "**Obsługa danych binarnych:** Możesz używać NumPy do operacji na danych binarnych, takich jak obrazy, dźwięk czy pliki binarne.\n",
        "\n",
        "\n",
        "\n",
        "NumPy jest nieodzowną biblioteką w ekosystemie naukowych obliczeń w języku Python. Dzięki niej programiści i naukowcy danych mogą wygodnie manipulować dużymi zbiorami danych numerycznych i wykonywać zaawansowane operacje matematyczne. W połączeniu z innymi narzędziami do analizy danych i wizualizacji, NumPy stanowi solidną podstawę dla wielu projektów związanych z naukowymi obliczeniami i analizą danych."
      ],
      "metadata": {
        "id": "fsL4JpHvzrxF"
      }
    },
    {
      "cell_type": "code",
      "execution_count": null,
      "metadata": {
        "colab": {
          "base_uri": "https://localhost:8080/",
          "height": 35
        },
        "id": "KiZFhq81zhca",
        "outputId": "d946429e-6650-4939-f7dd-c58436ca7319"
      },
      "outputs": [
        {
          "output_type": "execute_result",
          "data": {
            "text/plain": [
              "'1.25.2'"
            ],
            "application/vnd.google.colaboratory.intrinsic+json": {
              "type": "string"
            }
          },
          "metadata": {},
          "execution_count": 1
        }
      ],
      "source": [
        "#Podstawy\n",
        "import numpy as np\n",
        "np.__version__"
      ]
    },
    {
      "cell_type": "code",
      "source": [
        "#metody np\n",
        "#dir(np)"
      ],
      "metadata": {
        "id": "6FO-Q66A089A"
      },
      "execution_count": null,
      "outputs": []
    },
    {
      "cell_type": "code",
      "source": [
        "#help(np.array)"
      ],
      "metadata": {
        "id": "0U3msNwy14Cb"
      },
      "execution_count": null,
      "outputs": []
    },
    {
      "cell_type": "code",
      "source": [
        "#wymiary tablic są osiami\n",
        "# 1D Array\n",
        "\n",
        "x = np.array([1,3])\n",
        "x"
      ],
      "metadata": {
        "colab": {
          "base_uri": "https://localhost:8080/"
        },
        "id": "7htEZmDN18Da",
        "outputId": "f6fd54c3-8d2d-4c20-b56b-7cf20f4f7787"
      },
      "execution_count": null,
      "outputs": [
        {
          "output_type": "execute_result",
          "data": {
            "text/plain": [
              "array([1, 3])"
            ]
          },
          "metadata": {},
          "execution_count": 9
        }
      ]
    },
    {
      "cell_type": "code",
      "source": [
        "print(x)"
      ],
      "metadata": {
        "colab": {
          "base_uri": "https://localhost:8080/"
        },
        "id": "uRbFOLPx2Duy",
        "outputId": "db3d458f-90f5-460d-f840-93850ef0cf6e"
      },
      "execution_count": null,
      "outputs": [
        {
          "output_type": "stream",
          "name": "stdout",
          "text": [
            "[1 3]\n"
          ]
        }
      ]
    },
    {
      "cell_type": "code",
      "source": [
        "type(x) # punkt w przestrzeni R2"
      ],
      "metadata": {
        "colab": {
          "base_uri": "https://localhost:8080/"
        },
        "id": "ac_GkDF22Yyh",
        "outputId": "de8e1576-e435-4299-9894-e9b9bba01e86"
      },
      "execution_count": null,
      "outputs": [
        {
          "output_type": "execute_result",
          "data": {
            "text/plain": [
              "numpy.ndarray"
            ]
          },
          "metadata": {},
          "execution_count": 11
        }
      ]
    },
    {
      "cell_type": "code",
      "source": [
        "x.ndim #wymiary tablicy"
      ],
      "metadata": {
        "colab": {
          "base_uri": "https://localhost:8080/"
        },
        "id": "TkadjqTY2bR8",
        "outputId": "e49f1642-2cd8-4883-c09c-2cb756fbf0e4"
      },
      "execution_count": null,
      "outputs": [
        {
          "output_type": "execute_result",
          "data": {
            "text/plain": [
              "1"
            ]
          },
          "metadata": {},
          "execution_count": 12
        }
      ]
    },
    {
      "cell_type": "code",
      "source": [
        "x.shape # kształt"
      ],
      "metadata": {
        "colab": {
          "base_uri": "https://localhost:8080/"
        },
        "id": "QGwZgrUj2jAf",
        "outputId": "6556c4ed-26d0-4a6d-cea7-6880fb5a8588"
      },
      "execution_count": null,
      "outputs": [
        {
          "output_type": "execute_result",
          "data": {
            "text/plain": [
              "(2,)"
            ]
          },
          "metadata": {},
          "execution_count": 13
        }
      ]
    },
    {
      "cell_type": "code",
      "source": [
        "x.size"
      ],
      "metadata": {
        "colab": {
          "base_uri": "https://localhost:8080/"
        },
        "id": "M_p3HTBx2mH3",
        "outputId": "f60d50ca-dd1b-4bb9-ea15-608f548bf392"
      },
      "execution_count": null,
      "outputs": [
        {
          "output_type": "execute_result",
          "data": {
            "text/plain": [
              "2"
            ]
          },
          "metadata": {},
          "execution_count": 14
        }
      ]
    },
    {
      "cell_type": "code",
      "source": [
        "x.dtype # typ danych"
      ],
      "metadata": {
        "colab": {
          "base_uri": "https://localhost:8080/"
        },
        "id": "vfL_OF_22rlX",
        "outputId": "c547d74f-0c44-4136-d929-fd6869cbc3c4"
      },
      "execution_count": null,
      "outputs": [
        {
          "output_type": "execute_result",
          "data": {
            "text/plain": [
              "dtype('int64')"
            ]
          },
          "metadata": {},
          "execution_count": 15
        }
      ]
    },
    {
      "cell_type": "code",
      "source": [
        "y = np.array([1.3, 2.3, 1.4])\n",
        "y"
      ],
      "metadata": {
        "colab": {
          "base_uri": "https://localhost:8080/"
        },
        "id": "0lQh02wY2zvn",
        "outputId": "c9e1f99d-4e10-4d27-ba78-6f224ac162e6"
      },
      "execution_count": null,
      "outputs": [
        {
          "output_type": "execute_result",
          "data": {
            "text/plain": [
              "array([1.3, 2.3, 1.4])"
            ]
          },
          "metadata": {},
          "execution_count": 17
        }
      ]
    },
    {
      "cell_type": "code",
      "source": [
        "y.dtype"
      ],
      "metadata": {
        "colab": {
          "base_uri": "https://localhost:8080/"
        },
        "id": "faT2Rvwy2_cl",
        "outputId": "d6eddc7b-7d04-46bc-c7ed-f354291ff7b6"
      },
      "execution_count": null,
      "outputs": [
        {
          "output_type": "execute_result",
          "data": {
            "text/plain": [
              "dtype('float64')"
            ]
          },
          "metadata": {},
          "execution_count": 18
        }
      ]
    },
    {
      "cell_type": "code",
      "source": [
        "# 2D array dwuwymiarome tablice postać macierzy\n",
        "x = np.array([[1,2 , 5], [-3, 1, 8]])\n",
        "x"
      ],
      "metadata": {
        "colab": {
          "base_uri": "https://localhost:8080/"
        },
        "id": "NNLZpyOv3EDf",
        "outputId": "7cbce78c-6c03-4a64-deaf-61a26b38305b"
      },
      "execution_count": null,
      "outputs": [
        {
          "output_type": "execute_result",
          "data": {
            "text/plain": [
              "array([[ 1,  2,  5],\n",
              "       [-3,  1,  8]])"
            ]
          },
          "metadata": {},
          "execution_count": 19
        }
      ]
    },
    {
      "cell_type": "code",
      "source": [
        "x.ndim"
      ],
      "metadata": {
        "colab": {
          "base_uri": "https://localhost:8080/"
        },
        "id": "3JJnqdfH3Vqs",
        "outputId": "5c4d55e8-c5da-438f-8bca-8383367573d0"
      },
      "execution_count": null,
      "outputs": [
        {
          "output_type": "execute_result",
          "data": {
            "text/plain": [
              "2"
            ]
          },
          "metadata": {},
          "execution_count": 20
        }
      ]
    },
    {
      "cell_type": "code",
      "source": [
        "x.shape"
      ],
      "metadata": {
        "colab": {
          "base_uri": "https://localhost:8080/"
        },
        "id": "BoaFaTQj3XrG",
        "outputId": "f634a7fd-049d-487e-c4d6-2ed8cab38dc5"
      },
      "execution_count": null,
      "outputs": [
        {
          "output_type": "execute_result",
          "data": {
            "text/plain": [
              "(2, 3)"
            ]
          },
          "metadata": {},
          "execution_count": 21
        }
      ]
    },
    {
      "cell_type": "code",
      "source": [
        "# 3d Array"
      ],
      "metadata": {
        "id": "3peVEQ_E3Y3X"
      },
      "execution_count": null,
      "outputs": []
    },
    {
      "cell_type": "code",
      "source": [
        "x = np.array(\n",
        "  [\n",
        "      [\n",
        "          [4,3,1], [3,1,2]\n",
        "      ],\n",
        "      [\n",
        "          [4,1,3], [4,2,1]\n",
        "      ],\n",
        "      [\n",
        "          [3,2,1], [4,3,2]\n",
        "      ]\n",
        "  ]\n",
        ")\n",
        "x"
      ],
      "metadata": {
        "colab": {
          "base_uri": "https://localhost:8080/"
        },
        "id": "OSbwL9Q24KBv",
        "outputId": "a012918f-8a97-4a83-a34a-a35b8b74888d"
      },
      "execution_count": null,
      "outputs": [
        {
          "output_type": "execute_result",
          "data": {
            "text/plain": [
              "array([[[4, 3, 1],\n",
              "        [3, 1, 2]],\n",
              "\n",
              "       [[4, 1, 3],\n",
              "        [4, 2, 1]],\n",
              "\n",
              "       [[3, 2, 1],\n",
              "        [4, 3, 2]]])"
            ]
          },
          "metadata": {},
          "execution_count": 26
        }
      ]
    },
    {
      "cell_type": "code",
      "source": [
        "x.ndim"
      ],
      "metadata": {
        "colab": {
          "base_uri": "https://localhost:8080/"
        },
        "id": "0ypz0UE04vdn",
        "outputId": "2b1f2fd2-2e63-4d22-bf1c-684f11ae3e0b"
      },
      "execution_count": null,
      "outputs": [
        {
          "output_type": "execute_result",
          "data": {
            "text/plain": [
              "3"
            ]
          },
          "metadata": {},
          "execution_count": 27
        }
      ]
    },
    {
      "cell_type": "code",
      "source": [
        "x.shape # 3 tablice, 2 wiersze, 3 kolumny"
      ],
      "metadata": {
        "colab": {
          "base_uri": "https://localhost:8080/"
        },
        "id": "E_Vlo7mq4x6H",
        "outputId": "1aaaa414-2d13-4748-e9eb-af4f5924c1f7"
      },
      "execution_count": null,
      "outputs": [
        {
          "output_type": "execute_result",
          "data": {
            "text/plain": [
              "(3, 2, 3)"
            ]
          },
          "metadata": {},
          "execution_count": 29
        }
      ]
    },
    {
      "cell_type": "markdown",
      "source": [
        "**Podstawowe typy danych**"
      ],
      "metadata": {
        "id": "dS71Z77q5Ilc"
      }
    },
    {
      "cell_type": "code",
      "source": [
        "#liczby całkowite int64\n",
        "A = np.array([1,2,3])\n",
        "A.dtype"
      ],
      "metadata": {
        "colab": {
          "base_uri": "https://localhost:8080/"
        },
        "id": "7w6aA1fr5Osb",
        "outputId": "4ed4351c-6a38-401b-fbf4-2c74012fe6f7"
      },
      "execution_count": null,
      "outputs": [
        {
          "output_type": "execute_result",
          "data": {
            "text/plain": [
              "dtype('int64')"
            ]
          },
          "metadata": {},
          "execution_count": 30
        }
      ]
    },
    {
      "cell_type": "code",
      "source": [
        "#liczby zmiennoprzecikowe float64\n",
        "A = np.array([1.4,2.45,3.12])\n",
        "A.dtype"
      ],
      "metadata": {
        "colab": {
          "base_uri": "https://localhost:8080/"
        },
        "id": "yKCvyXhc5Zky",
        "outputId": "f294e6e7-4880-4f93-8a65-b969d656993f"
      },
      "execution_count": null,
      "outputs": [
        {
          "output_type": "execute_result",
          "data": {
            "text/plain": [
              "dtype('float64')"
            ]
          },
          "metadata": {},
          "execution_count": 31
        }
      ]
    },
    {
      "cell_type": "code",
      "source": [
        "A = np.array([1,2,3], dtype='float') # typ zostanie ustawiony na float\n",
        "A.dtype"
      ],
      "metadata": {
        "colab": {
          "base_uri": "https://localhost:8080/"
        },
        "id": "d0A5fog95hsq",
        "outputId": "dba6d859-1dc8-4dcd-c220-860836b45118"
      },
      "execution_count": null,
      "outputs": [
        {
          "output_type": "execute_result",
          "data": {
            "text/plain": [
              "dtype('float64')"
            ]
          },
          "metadata": {},
          "execution_count": 32
        }
      ]
    },
    {
      "cell_type": "code",
      "source": [
        "A = np.array([1,2,3], dtype='complex') # typ zostanie ustawiony na complex - liczby złożone\n",
        "A.dtype"
      ],
      "metadata": {
        "colab": {
          "base_uri": "https://localhost:8080/"
        },
        "id": "ciAQ80yv5to4",
        "outputId": "59ba47c8-e260-4361-8234-fea4b7795ff5"
      },
      "execution_count": null,
      "outputs": [
        {
          "output_type": "execute_result",
          "data": {
            "text/plain": [
              "dtype('complex128')"
            ]
          },
          "metadata": {},
          "execution_count": 33
        }
      ]
    },
    {
      "cell_type": "code",
      "source": [
        "A = np.array([1.4,2.45,3.12], dtype='int') #nie zaokrągla\n",
        "A.dtype\n",
        "A"
      ],
      "metadata": {
        "colab": {
          "base_uri": "https://localhost:8080/"
        },
        "id": "aRS4Qz2951Bp",
        "outputId": "9cbdb0c1-10ca-49ef-932f-5bf0e13d2e69"
      },
      "execution_count": null,
      "outputs": [
        {
          "output_type": "execute_result",
          "data": {
            "text/plain": [
              "array([1, 2, 3])"
            ]
          },
          "metadata": {},
          "execution_count": 34
        }
      ]
    },
    {
      "cell_type": "code",
      "source": [
        "#wartośc logiczna\n",
        "\n",
        "A = np.array([True, False])\n",
        "A.dtype\n",
        "A"
      ],
      "metadata": {
        "colab": {
          "base_uri": "https://localhost:8080/"
        },
        "id": "BCEmmO8x5_iQ",
        "outputId": "5ed41c48-1f4c-48d7-9115-d04ac7e471ec"
      },
      "execution_count": null,
      "outputs": [
        {
          "output_type": "execute_result",
          "data": {
            "text/plain": [
              "array([ True, False])"
            ]
          },
          "metadata": {},
          "execution_count": 35
        }
      ]
    },
    {
      "cell_type": "code",
      "source": [
        "A = np.array([24, 120, 230], dtype=np.int8)\n",
        "A.dtype"
      ],
      "metadata": {
        "colab": {
          "base_uri": "https://localhost:8080/"
        },
        "id": "k62NAb9-6KR_",
        "outputId": "d542c284-40dc-482a-9b59-0485505686c5"
      },
      "execution_count": null,
      "outputs": [
        {
          "output_type": "stream",
          "name": "stderr",
          "text": [
            "<ipython-input-36-27ab11b0e872>:1: DeprecationWarning: NumPy will stop allowing conversion of out-of-bound Python integers to integer arrays.  The conversion of 230 to int8 will fail in the future.\n",
            "For the old behavior, usually:\n",
            "    np.array(value).astype(dtype)\n",
            "will give the desired result (the cast overflows).\n",
            "  A = np.array([24, 120, 230], dtype=np.int8)\n"
          ]
        },
        {
          "output_type": "execute_result",
          "data": {
            "text/plain": [
              "dtype('int8')"
            ]
          },
          "metadata": {},
          "execution_count": 36
        }
      ]
    },
    {
      "cell_type": "code",
      "source": [
        "A = np.array([24, 120, 230], dtype=np.uint8)\n",
        "A.dtype"
      ],
      "metadata": {
        "id": "1VO5kS1X6YmG",
        "outputId": "12cd8895-4777-47b8-aa2a-4da862c1e70c",
        "colab": {
          "base_uri": "https://localhost:8080/"
        }
      },
      "execution_count": null,
      "outputs": [
        {
          "output_type": "execute_result",
          "data": {
            "text/plain": [
              "dtype('uint8')"
            ]
          },
          "metadata": {},
          "execution_count": 37
        }
      ]
    }
  ]
}